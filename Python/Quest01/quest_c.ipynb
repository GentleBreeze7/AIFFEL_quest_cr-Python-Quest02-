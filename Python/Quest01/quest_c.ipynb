{
  "nbformat": 4,
  "nbformat_minor": 0,
  "metadata": {
    "colab": {
      "provenance": [],
      "toc_visible": true,
      "include_colab_link": true
    },
    "kernelspec": {
      "name": "python3",
      "display_name": "Python 3"
    },
    "language_info": {
      "name": "python"
    }
  },
  "cells": [
    {
      "cell_type": "markdown",
      "metadata": {
        "id": "view-in-github",
        "colab_type": "text"
      },
      "source": [
        "<a href=\"https://colab.research.google.com/github/blueberrycrumble/AIFFEL_quest_cr/blob/master/Python/Quest01/quest_c.ipynb\" target=\"_parent\"><img src=\"https://colab.research.google.com/assets/colab-badge.svg\" alt=\"Open In Colab\"/></a>"
      ]
    },
    {
      "cell_type": "code",
      "source": [
        "sentence=str(input(\"거꾸로 읽을 단어를 쓰고 엔터치세요:\")) #단어를 입력받아 sentence 변수에 담는다."
      ],
      "metadata": {
        "id": "GIt7hOHfiqQC",
        "outputId": "d930a789-9122-4094-d035-d224c46dc293",
        "colab": {
          "base_uri": "https://localhost:8080/"
        }
      },
      "execution_count": 4,
      "outputs": [
        {
          "name": "stdout",
          "output_type": "stream",
          "text": [
            "거꾸로 읽을 단어를 쓰고 엔터치세요:소라게\n"
          ]
        }
      ]
    },
    {
      "cell_type": "code",
      "source": [
        "reverse = sentence[::-1] #입력된 단어를 뒤집어서 reverse 변수에 담는다."
      ],
      "metadata": {
        "id": "wYlxKG1nzxd2"
      },
      "execution_count": 5,
      "outputs": []
    },
    {
      "cell_type": "code",
      "source": [
        "# 반복문으로 회문인지 아닌지를 판별한다.\n",
        "if sentence == reverse: #입력된 단어가 뒤집어진 단어와 같을 경우\n",
        "   print(\"뒤집힌 단어는:\"+ reverse + \"\\n입력된 단어는 회문입니다.\") # 회문이 맞다는 문구를 출력한다\n",
        "elif sentence != reverse: #입력된 단어가 뒤집어진 단어와 다를 경우\n",
        "   print(\"뒤집힌 단어는:\"+ reverse + \"\\n입력된 단어는 회문이 아닙니다.\") # 회문이 아니라는 문구를 출력한다"
      ],
      "metadata": {
        "id": "zSJXbJ7Nztmd",
        "outputId": "8eff003d-d30e-4634-ee0f-6e26423446b4",
        "colab": {
          "base_uri": "https://localhost:8080/"
        }
      },
      "execution_count": 7,
      "outputs": [
        {
          "output_type": "stream",
          "name": "stdout",
          "text": [
            "뒤집힌 단어는:게라소\n",
            "입력된 단어는 회문이 아닙니다.\n"
          ]
        }
      ]
    }
  ]
}