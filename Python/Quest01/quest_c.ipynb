{
  "nbformat": 4,
  "nbformat_minor": 0,
  "metadata": {
    "colab": {
      "provenance": [],
      "toc_visible": true,
      "include_colab_link": true
    },
    "kernelspec": {
      "name": "python3",
      "display_name": "Python 3"
    },
    "language_info": {
      "name": "python"
    }
  },
  "cells": [
    {
      "cell_type": "markdown",
      "metadata": {
        "id": "view-in-github",
        "colab_type": "text"
      },
      "source": [
        "<a href=\"https://colab.research.google.com/github/blueberrycrumble/AIFFEL_quest_cr/blob/master/Python/Quest01/quest_c.ipynb\" target=\"_parent\"><img src=\"https://colab.research.google.com/assets/colab-badge.svg\" alt=\"Open In Colab\"/></a>"
      ]
    },
    {
      "cell_type": "code",
      "source": [
        "sentence=str(input(\"거꾸로 읽을 단어를 타이핑하세요:\")) #단어를 입력받을 수 있게 한다.\n",
        "reverse = sentence[::-1] #입력된 단어를 뒤집어서 출력할 수 있게 한다.\n",
        "if sentence == reverse: #입력된 단어가 회문이 맞으면\n",
        "   print(\"뒤집힌 단어는:\"+ reverse + \"\\n입력된 단어는 회문입니다.\") # 출력한다\n",
        "elif sentence != reverse: #입력된 단어가 회문이 아니면\n",
        "   print(\"뒤집힌 단어는:\" + reverse + \"\\n입력된 단어는 회문이 아닙니다.\") # 출력한다"
      ],
      "metadata": {
        "id": "GIt7hOHfiqQC"
      },
      "execution_count": null,
      "outputs": []
    }
  ]
}