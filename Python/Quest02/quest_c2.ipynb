{
  "cells": [
    {
      "cell_type": "markdown",
      "source": [
        "# Avengers vocab 만들기\n",
        "## 할 일 정리\n",
        "### 텍스트 전처리 수행\n",
        "- 파일 임포트\n",
        "- 소문자 변환 & 기호 제거\n",
        "    - str.translate()\n",
        "    - generator expression\n",
        "- 단어 단위로 분리\n",
        "### 빈도수대로 딕셔너리에 저장하기\n",
        "- 빈도수 내림차순 정렬\n",
        "-\n",
        "### 인덱스 부여하기\n",
        "- 텍스트를 input()으로 받아서\n",
        "  - string으로 받는 인풋 상자 제작\n",
        "- 정수 return\n",
        "\n",
        "\n"
      ],
      "metadata": {
        "id": "RgCzt6Ad0fDv"
      },
      "id": "RgCzt6Ad0fDv"
    },
    {
      "cell_type": "code",
      "source": [],
      "metadata": {
        "id": "Q6o5aFJbz8ds"
      },
      "id": "Q6o5aFJbz8ds",
      "execution_count": null,
      "outputs": []
    }
  ],
  "metadata": {
    "colab": {
      "provenance": []
    }
  },
  "nbformat": 4,
  "nbformat_minor": 5
}