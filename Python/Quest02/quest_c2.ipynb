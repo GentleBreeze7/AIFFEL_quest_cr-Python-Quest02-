{
  "cells": [
    {
      "cell_type": "markdown",
      "source": [
        "# Avengers vocab 만들기\n",
        "## 할 일 정리\n",
        "### 텍스트 전처리 수행\n",
        "- 파일 임포트\n",
        "- 소문자 변환 & 기호 제거\n",
        "    - str.translate()\n",
        "    - generator expression\n",
        "- 단어 단위로 분리\n",
        "### 빈도수대로 딕셔너리에 저장하기\n",
        "- 빈도수 내림차순 정렬\n",
        "-\n",
        "### 인덱스 부여하기\n",
        "- 텍스트를 input()으로 받아서\n",
        "  - string으로 받는 인풋 상자 제작\n",
        "- 정수 return\n",
        "\n",
        "\n"
      ],
      "metadata": {
        "id": "RgCzt6Ad0fDv"
      },
      "id": "RgCzt6Ad0fDv"
    },
    {
      "cell_type": "code",
      "source": [],
      "metadata": {
        "id": "Q6o5aFJbz8ds"
      },
      "id": "Q6o5aFJbz8ds",
      "execution_count": null,
      "outputs": []
    },
    {
      "cell_type": "code",
      "source": [
        "/content/Avengers.txt"
      ],
      "metadata": {
        "id": "zZk6W8-O33O4"
      },
      "id": "zZk6W8-O33O4",
      "execution_count": null,
      "outputs": []
    },
    {
      "cell_type": "code",
      "source": [
        "from google.colab import drive\n",
        "drive.mount('/content/drive')"
      ],
      "metadata": {
        "id": "54TQr2KQ4MTZ",
        "outputId": "c9a9c119-80d8-44ad-b957-2a1077df0c90",
        "colab": {
          "base_uri": "https://localhost:8080/"
        }
      },
      "id": "54TQr2KQ4MTZ",
      "execution_count": 10,
      "outputs": [
        {
          "output_type": "stream",
          "name": "stdout",
          "text": [
            "Mounted at /content/drive\n"
          ]
        }
      ]
    }
  ],
  "metadata": {
    "colab": {
      "provenance": []
    },
    "language_info": {
      "name": "python"
    },
    "kernelspec": {
      "name": "python3",
      "display_name": "Python 3"
    }
  },
  "nbformat": 4,
  "nbformat_minor": 5
}